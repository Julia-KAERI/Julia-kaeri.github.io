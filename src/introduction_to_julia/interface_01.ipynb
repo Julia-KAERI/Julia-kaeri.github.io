{
 "cells": [
  {
   "cell_type": "code",
   "execution_count": 1,
   "metadata": {},
   "outputs": [],
   "source": [
    " using Plots, BenchmarkTools\n"
   ]
  },
  {
   "cell_type": "code",
   "execution_count": 2,
   "metadata": {},
   "outputs": [
    {
     "data": {
      "text/plain": [
       "logspace (generic function with 3 methods)"
      ]
     },
     "metadata": {},
     "output_type": "display_data"
    }
   ],
   "source": [
    "struct LogSpacingRange{T}\n",
    "    start::T\n",
    "    stop::T\n",
    "    base::T\n",
    "    size::Int64\n",
    "\n",
    "    function LogSpacingRange(start::Real, stop::Real, size::Int64, base::Real)\n",
    "        @assert base > 1\n",
    "        @assert size ≥ 1\n",
    "        ftype = promote_type(typeof(start), typeof(stop))\n",
    "        if ~(ftype <: AbstractFloat)\n",
    "            ftype = Float64\n",
    "        end\n",
    "\n",
    "        return new{ftype}(start, stop, base, size)\n",
    "    end\n",
    "end\n",
    "\n",
    "Base.size(p::LogSpacingRange) = (p.size, )\n",
    "Base.length(p::LogSpacingRange) = p.size\n",
    "Base.iterate(p::LogSpacingRange, state=1) = state > p.size ? nothing : (p[state], state+1)\n",
    "Base.eltype(p::LogSpacingRange{T}) where {T} = T\n",
    "Base.IteratorSize(::LogSpacingRange{T}) where {T} = Base.HasLength()\n",
    "Base.IteratorEltype(::LogSpacingRange{T}) where {T} = Base.HasEltype()\n",
    "Base.firstindex(p::LogSpacingRange) = (p.base)^(p.start)\n",
    "Base.lastindex(p::LogSpacingRange) = (p.base)^(p.stop)\n",
    "\n",
    "function Base.getindex(p::LogSpacingRange, i::Int64) \n",
    "    @assert 0 < i ≤ p.size\n",
    "    if p.size == 1\n",
    "        return p.start\n",
    "    else \n",
    "        r = p.start + (p.stop-p.start)/(p.size-1)*(i-1)\n",
    "        return (p.base)^r\n",
    "    end\n",
    "end\n",
    "\n",
    "function logspace(a, b, n::Integer=10, base::Real=10)\n",
    "    return LogSpacingRange(a, b, n, base)\n",
    "end\n",
    "\n"
   ]
  },
  {
   "cell_type": "code",
   "execution_count": 3,
   "metadata": {},
   "outputs": [
    {
     "name": "stdout",
     "output_type": "stream",
     "text": [
      "v = 10.0\n",
      "v = 1000.0\n",
      "v = 100000.0\n"
     ]
    }
   ],
   "source": [
    "for v in logspace(1, 5, 3, 10)\n",
    "    @show v\n",
    "end "
   ]
  },
  {
   "cell_type": "code",
   "execution_count": 4,
   "metadata": {},
   "outputs": [
    {
     "data": {
      "text/plain": [
       "LogSpacingRange{Float64}(1.0, 5.0, 10.0, 3)"
      ]
     },
     "metadata": {},
     "output_type": "display_data"
    }
   ],
   "source": [
    "q = logspace(1, 5, 3, 10)\n"
   ]
  },
  {
   "cell_type": "code",
   "execution_count": 5,
   "metadata": {},
   "outputs": [
    {
     "data": {
      "text/plain": [
       "100000.0"
      ]
     },
     "metadata": {},
     "output_type": "display_data"
    }
   ],
   "source": [
    "lastindex(q)"
   ]
  },
  {
   "cell_type": "code",
   "execution_count": 10,
   "metadata": {},
   "outputs": [
    {
     "name": "stdout",
     "output_type": "stream",
     "text": [
      "  579.879 ms (4 allocations: 152.59 MiB)\n"
     ]
    },
    {
     "data": {
      "text/plain": [
       "10000000-element Vector{Float64}:\n",
       " -0.5440211108893698\n",
       " -0.5442123702777624\n",
       " -0.544403605745054\n",
       " -0.5445948172794824\n",
       " -0.5447860048692661\n",
       " -0.5449771685026384\n",
       " -0.545168308167821\n",
       " -0.5453594238530456\n",
       " -0.5455505155465338\n",
       " -0.5457415832365204\n",
       "  ⋮\n",
       "  0.906058207933149\n",
       "  0.07080345989155566\n",
       " -0.8417569196096994\n",
       " -0.5721455273902858\n",
       " -0.7944224416378906\n",
       "  0.10319515473730205\n",
       " -0.35196619461604933\n",
       "  0.3835181655933971\n",
       " -0.3806377310050287"
      ]
     },
     "metadata": {},
     "output_type": "display_data"
    }
   ],
   "source": [
    "@btime begin\n",
    "    a=logspace(1, 100, 1000_0000)\n",
    "    sin.(a)\n",
    "end"
   ]
  },
  {
   "cell_type": "code",
   "execution_count": 12,
   "metadata": {},
   "outputs": [
    {
     "name": "stdout",
     "output_type": "stream",
     "text": [
      "  574.936 ms (4 allocations: 152.59 MiB)\n"
     ]
    },
    {
     "data": {
      "text/plain": [
       "10000000-element Vector{Float64}:\n",
       " -0.5440211108893698\n",
       " -0.5442123702777624\n",
       " -0.544403605745054\n",
       " -0.5445948172794824\n",
       " -0.5447860048692661\n",
       " -0.5449771685026384\n",
       " -0.545168308167821\n",
       " -0.5453594238530456\n",
       " -0.5455505155465338\n",
       " -0.5457415832365204\n",
       "  ⋮\n",
       "  0.906058207933149\n",
       "  0.07080345989155566\n",
       " -0.8417569196096994\n",
       " -0.5721455273902858\n",
       " -0.7944224416378906\n",
       "  0.10319515473730205\n",
       " -0.35196619461604933\n",
       "  0.3835181655933971\n",
       " -0.3806377310050287"
      ]
     },
     "metadata": {},
     "output_type": "display_data"
    }
   ],
   "source": [
    "@btime begin\n",
    "    a=10.0.^range(1.0, 100.0, length=1000_0000)\n",
    "    sin.(a)\n",
    "end"
   ]
  },
  {
   "cell_type": "code",
   "execution_count": null,
   "metadata": {},
   "outputs": [],
   "source": [
    "struct InfinitRing{T} where T\n",
    "    start::Int64\n"
   ]
  }
 ],
 "metadata": {
  "kernelspec": {
   "display_name": "Julia 1.10.2",
   "language": "julia",
   "name": "julia-1.10"
  },
  "language_info": {
   "file_extension": ".jl",
   "mimetype": "application/julia",
   "name": "julia",
   "version": "1.10.2"
  }
 },
 "nbformat": 4,
 "nbformat_minor": 2
}
