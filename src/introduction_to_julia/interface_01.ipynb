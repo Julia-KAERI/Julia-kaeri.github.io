{
 "cells": [
  {
   "cell_type": "code",
   "execution_count": 1,
   "metadata": {},
   "outputs": [],
   "source": [
    " using Plots\n"
   ]
  },
  {
   "cell_type": "code",
   "execution_count": 5,
   "metadata": {},
   "outputs": [
    {
     "data": {
      "text/plain": [
       "logspace (generic function with 3 methods)"
      ]
     },
     "metadata": {},
     "output_type": "display_data"
    }
   ],
   "source": [
    "struct LogSpacingRange{T}\n",
    "    start::T\n",
    "    stop::T\n",
    "    base::T\n",
    "    size::Int64\n",
    "\n",
    "    function LogSpacingRange(start::Real, stop::Real, size::Int64, base::Real)\n",
    "        @assert base > 1\n",
    "        @assert size ≥ 1\n",
    "        ftype = promote_type(typeof(start), typeof(stop))\n",
    "        if ~(ftype <: AbstractFloat)\n",
    "            ftype = Float64\n",
    "        end\n",
    "\n",
    "        return new{ftype}(start, stop, base, size)\n",
    "    end\n",
    "end\n",
    "\n",
    "Base.size(p::LogSpacingRange) = (p.size, )\n",
    "Base.length(p::LogSpacingRange) = p.size\n",
    "Base.iterate(p::LogSpacingRange, state=1) = state > p.size ? nothing : (p[state], state+1)\n",
    "Base.eltype(p::LogSpacingRange{T}) where {T} = T\n",
    "Base.IteratorSize(::LogSpacingRange{T}) where {T} = Base.HasLength()\n",
    "Base.IteratorEltype(::LogSpacingRange{T}) where {T} = Base.HasEltype()\n",
    "\n",
    "function Base.getindex(p::LogSpacingRange, i::Int64) \n",
    "    @assert 0 < i ≤ p.size\n",
    "    if p.size == 1\n",
    "        return p.start\n",
    "    else \n",
    "        r = p.start + (p.stop-p.start)/(p.size-1)*(i-1)\n",
    "        return (p.base)^r\n",
    "    end\n",
    "end\n",
    "\n",
    "function logspace(a, b, n::Integer=10, base::Real=10)\n",
    "    return LogSpacingRange(a, b, n, base)\n",
    "end\n",
    "\n"
   ]
  },
  {
   "cell_type": "code",
   "execution_count": 16,
   "metadata": {},
   "outputs": [
    {
     "name": "stdout",
     "output_type": "stream",
     "text": [
      "v = 10.0\n",
      "v = 1000.0\n",
      "v = 100000.0\n"
     ]
    }
   ],
   "source": [
    "for v in logspace(1, 5, 3, 10)\n",
    "    @show v\n",
    "end "
   ]
  },
  {
   "cell_type": "code",
   "execution_count": 7,
   "metadata": {},
   "outputs": [
    {
     "data": {
      "text/plain": [
       "3-element Vector{Float32}:\n",
       "     10.0\n",
       "   1000.0\n",
       " 100000.0"
      ]
     },
     "metadata": {},
     "output_type": "display_data"
    }
   ],
   "source": [
    "\n"
   ]
  },
  {
   "cell_type": "code",
   "execution_count": 8,
   "metadata": {},
   "outputs": [
    {
     "data": {
      "text/plain": [
       "Base.HasLength()"
      ]
     },
     "metadata": {},
     "output_type": "display_data"
    }
   ],
   "source": [
    "Base.IteratorSize(LogSpacingRange)"
   ]
  },
  {
   "cell_type": "code",
   "execution_count": 12,
   "metadata": {},
   "outputs": [
    {
     "data": {
      "text/plain": [
       "3-element Vector{Float32}:\n",
       "     10.0\n",
       "   1000.0\n",
       " 100000.0"
      ]
     },
     "metadata": {},
     "output_type": "display_data"
    }
   ],
   "source": [
    "10 .^ range(1.0f0, stop=5, length=3)"
   ]
  },
  {
   "cell_type": "code",
   "execution_count": null,
   "metadata": {},
   "outputs": [],
   "source": [
    "Base.IteratorSize(typeof(p))"
   ]
  },
  {
   "cell_type": "code",
   "execution_count": null,
   "metadata": {},
   "outputs": [],
   "source": [
    "struct InfinitRing{T} where T\n",
    "    start::Int64\n"
   ]
  }
 ],
 "metadata": {
  "kernelspec": {
   "display_name": "Julia 1.10.2",
   "language": "julia",
   "name": "julia-1.10"
  },
  "language_info": {
   "file_extension": ".jl",
   "mimetype": "application/julia",
   "name": "julia",
   "version": "1.10.2"
  }
 },
 "nbformat": 4,
 "nbformat_minor": 2
}
