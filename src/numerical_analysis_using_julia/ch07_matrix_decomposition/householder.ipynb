{
 "cells": [
  {
   "cell_type": "code",
   "execution_count": 1,
   "metadata": {},
   "outputs": [],
   "source": [
    "using LinearAlgebra, Plots, BenchmarkTools"
   ]
  },
  {
   "cell_type": "code",
   "execution_count": 118,
   "metadata": {},
   "outputs": [
    {
     "data": {
      "text/plain": [
       "house2 (generic function with 2 methods)"
      ]
     },
     "metadata": {},
     "output_type": "display_data"
    }
   ],
   "source": [
    "function householder(v::Vector{T}) where T<:Number\n",
    "    N = sizeof(v)[1]\n",
    "    vv = normalize(hcat(v))\n",
    "    Hv = I - 2*(vv * (vv'))\n",
    "    return Hv\n",
    "end\n",
    "\n",
    "function house(x::Vector{T}) where T<:Real\n",
    "    m = length(x)\n",
    "    σ = norm(x[2:end])^2\n",
    "    v= [1 ; x[2:end]]\n",
    "\n",
    "    if abs(σ)<1.0e-10 && x[1] ≥ 0\n",
    "        β = 0\n",
    "    elseif abs(σ) < 1.0e-10 \n",
    "        β = -2\n",
    "    else \n",
    "        μ = sqrt(x[1]^2+σ)\n",
    "        if x[1] ≤ 0\n",
    "            v[1] = x[1] - μ\n",
    "        else \n",
    "            v[1] = -σ/(x[1]+μ)\n",
    "        end\n",
    "        β = 2*v[1]^2 / (σ + v[1]^2)\n",
    "        v=v./(v[1])\n",
    "    end\n",
    "    \n",
    "    H = I - β * (v * v')\n",
    "    return H*x\n",
    "end\n",
    "\n",
    "function house2(x::Vector{T}) where T<:Number\n",
    "    α = (T<:Real) ? norm(x) : (x[1]/abs(x[1]))*norm(x)\n",
    "    v = x .- (α .* I[1:length(x), 1])\n",
    "    return v\n",
    "end"
   ]
  },
  {
   "cell_type": "code",
   "execution_count": 119,
   "metadata": {},
   "outputs": [
    {
     "data": {
      "text/plain": [
       "3-element Vector{ComplexF64}:\n",
       " 1.0 + 1.0im\n",
       " 2.0 + 0.0im\n",
       " 3.0 + 0.0im"
      ]
     },
     "metadata": {},
     "output_type": "display_data"
    }
   ],
   "source": [
    "v = [1+1.0im,2, 3]"
   ]
  },
  {
   "cell_type": "code",
   "execution_count": 120,
   "metadata": {},
   "outputs": [
    {
     "data": {
      "text/plain": [
       "3×3 Matrix{ComplexF64}:\n",
       "          1.0+0.0im          …  -1.66533e-16-1.66533e-16im\n",
       " -1.66533e-16+1.66533e-16im     -3.60822e-16+0.0im\n",
       " -1.66533e-16+1.66533e-16im              1.0+0.0im"
      ]
     },
     "metadata": {},
     "output_type": "display_data"
    }
   ],
   "source": [
    "H = householder(v)\n",
    "H*H'"
   ]
  },
  {
   "cell_type": "code",
   "execution_count": 121,
   "metadata": {},
   "outputs": [
    {
     "data": {
      "text/plain": [
       "3-element Vector{Float64}:\n",
       " 2.0\n",
       " 1.0e-75\n",
       " 1.0e-75"
      ]
     },
     "metadata": {},
     "output_type": "display_data"
    }
   ],
   "source": [
    "x= [2.0, 1.0e-75, 1.0e-75]\n",
    "house(x)"
   ]
  },
  {
   "cell_type": "code",
   "execution_count": 122,
   "metadata": {},
   "outputs": [
    {
     "data": {
      "text/plain": [
       "3-element Vector{Float64}:\n",
       " 0.0\n",
       " 1.0e-75\n",
       " 1.0e-75"
      ]
     },
     "metadata": {},
     "output_type": "display_data"
    }
   ],
   "source": [
    "v=house2(x)"
   ]
  },
  {
   "cell_type": "code",
   "execution_count": 124,
   "metadata": {},
   "outputs": [
    {
     "data": {
      "text/plain": [
       "3×3 Matrix{Float64}:\n",
       "  1.0  -0.0          -0.0\n",
       " -0.0  -2.22045e-16  -1.0\n",
       " -0.0  -1.0          -2.22045e-16"
      ]
     },
     "metadata": {},
     "output_type": "display_data"
    }
   ],
   "source": [
    "householder(v)"
   ]
  },
  {
   "cell_type": "code",
   "execution_count": 31,
   "metadata": {},
   "outputs": [
    {
     "data": {
      "text/plain": [
       "3-element Vector{Bool}:\n",
       " 1\n",
       " 0\n",
       " 0"
      ]
     },
     "metadata": {},
     "output_type": "display_data"
    }
   ],
   "source": [
    "I[1:length(v), 1]"
   ]
  },
  {
   "cell_type": "code",
   "execution_count": null,
   "metadata": {},
   "outputs": [],
   "source": []
  }
 ],
 "metadata": {
  "kernelspec": {
   "display_name": "Julia 1.10.0",
   "language": "julia",
   "name": "julia-1.10"
  },
  "language_info": {
   "file_extension": ".jl",
   "mimetype": "application/julia",
   "name": "julia",
   "version": "1.10.0"
  }
 },
 "nbformat": 4,
 "nbformat_minor": 2
}
