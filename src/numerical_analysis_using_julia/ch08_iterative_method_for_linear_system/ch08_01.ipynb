{
 "cells": [
  {
   "cell_type": "code",
   "execution_count": 4,
   "metadata": {},
   "outputs": [],
   "source": [
    "using Plots, BenchmarkTools\n",
    "using LinearAlgebra\n",
    "using NAJ"
   ]
  },
  {
   "cell_type": "code",
   "execution_count": 44,
   "metadata": {},
   "outputs": [
    {
     "data": {
      "text/plain": [
       "optimal_omega (generic function with 1 method)"
      ]
     },
     "metadata": {},
     "output_type": "display_data"
    }
   ],
   "source": [
    "function spectral_radius(A::Matrix{T}) where T<:Number\n",
    "    eigs = eigvals(A)\n",
    "    return findmax([abs(x) for x in eigs])[1]\n",
    "end\n",
    "\n",
    "function optimal_omega(A::Matrix{<:Real})\n",
    "    D = Diagonal(A)\n",
    "    U = UpperTriangular(A)\n",
    "    L = LowerTriangular(A)\n",
    "    T = - inv(D+L) * U\n",
    "    return 1/(1+sqrt(1-spectral_radius(T)))\n",
    "end"
   ]
  },
  {
   "cell_type": "code",
   "execution_count": 5,
   "metadata": {},
   "outputs": [
    {
     "name": "stdout",
     "output_type": "stream",
     "text": [
      "6.437171043518958, 6.151051861499603\n"
     ]
    }
   ],
   "source": [
    "A = [2 1; 2 -2]\n",
    "B = [2 4; 1 -3]\n",
    "println(spectral_radius(A+B), \", \", spectral_radius(A) + spectral_radius(B))\n",
    "#spectral_radius(A)"
   ]
  },
  {
   "cell_type": "code",
   "execution_count": 6,
   "metadata": {},
   "outputs": [
    {
     "data": {
      "text/plain": [
       "3.7015621187164243"
      ]
     },
     "metadata": {},
     "output_type": "display_data"
    }
   ],
   "source": [
    "spectral_radius(B)"
   ]
  },
  {
   "cell_type": "code",
   "execution_count": 7,
   "metadata": {},
   "outputs": [
    {
     "data": {
      "text/plain": [
       "2-element Vector{Float64}:\n",
       " -2.449489742783178\n",
       "  2.4494897427831788"
      ]
     },
     "metadata": {},
     "output_type": "display_data"
    }
   ],
   "source": [
    "eigvals(A)"
   ]
  },
  {
   "cell_type": "code",
   "execution_count": 35,
   "metadata": {},
   "outputs": [
    {
     "data": {
      "text/plain": [
       "iteration_orthogonal (generic function with 1 method)"
      ]
     },
     "metadata": {},
     "output_type": "display_data"
    }
   ],
   "source": [
    "function iteration_jacobi3(\n",
    "    A::AbstractMatrix, \n",
    "    b::Vector, \n",
    "    x0::Vector; \n",
    "    etol::Number = 1.0e-10,\n",
    "    Maxiter::Integer = 100_000)\n",
    "    @assert size(A)[1] == size(A)[2] == size(b)[1]\n",
    "    @assert Maxiter > 3\n",
    "    x = zero(x0)\n",
    "    \n",
    "    for niter in 1:Maxiter\n",
    "        @inbounds for i in 1:length(x0)\n",
    "            @inbounds for j in 1:length(x0)\n",
    "                if i ≠ j\n",
    "                    x[i] += -A[i,j] * x0[j]\n",
    "                end\n",
    "            end\n",
    "            @inbounds x[i] = (x[i]+b[i])/A[i, i] \n",
    "        end\n",
    "        if norm(x .- x0, Inf) / norm(x, Inf) < etol\n",
    "            break\n",
    "        else \n",
    "            x0 = x[:]\n",
    "            x = zero(x0)\n",
    "\n",
    "        end\n",
    "    end\n",
    "    return x\n",
    "end\n",
    "\n",
    "function iteration_seidel3(\n",
    "    A::AbstractMatrix, \n",
    "    b::Vector, \n",
    "    x0::Vector; \n",
    "    etol::Number = 1.0e-10, \n",
    "    Maxiter = 100_000)\n",
    "    @assert size(A)[1] == size(A)[2] == size(b)[1]\n",
    "    \n",
    "    x = zero(x0)\n",
    "    for niter in 1:Maxiter\n",
    "        @inbounds for i in 1:length(x0)\n",
    "            @inbounds for j in 1:length(x0)\n",
    "                if j < i\n",
    "                    x[i] += - A[i, j]*x[j]\n",
    "                elseif j>i\n",
    "                    x[i] += - A[i, j]*x0[j] \n",
    "                end\n",
    "            end\n",
    "            @inbounds x[i] = (x[i]+b[i])/A[i, i] \n",
    "        end\n",
    "        if norm(x .- x0, Inf) / norm(x, Inf) < etol\n",
    "            break\n",
    "        else \n",
    "            x0 = x[:]\n",
    "            x = zero(x0)\n",
    "\n",
    "        end\n",
    "    end\n",
    "    return x\n",
    "end\n",
    "\n",
    "function iteration_sor3(\n",
    "    A::AbstractMatrix, \n",
    "    b::Vector, \n",
    "    x0::Vector,\n",
    "    ω::Real; \n",
    "    etol::Number = 1.0e-10, \n",
    "    Maxiter = 100_000)\n",
    "\n",
    "    @assert 0 < ω < 2\n",
    "    \n",
    "    x = zero(x0)\n",
    "    for nitter in 1:Maxiter\n",
    "        for i ∈ 1:length(x0)\n",
    "            for j ∈ 1:length(x0)\n",
    "                if j < i\n",
    "                    x[i] += -A[i, j] *x[j]\n",
    "                elseif j > i\n",
    "                    x[i] += -A[i, j] *x0[j]\n",
    "                end\n",
    "            end\n",
    "            x[i] = (1-ω)*x0[i] + 1/A[i, i] * (ω*b[i] + ω *  x[i])\n",
    "        end\n",
    "        if norm(x .- x0, Inf)/norm(x, Inf)< etol    \n",
    "            nitter = i\n",
    "            return x\n",
    "        else \n",
    "            x0 = x[:]\n",
    "            x = zero(x)\n",
    "        end\n",
    "    end\n",
    "    return x\n",
    "end\n",
    "\n",
    "function iteration_steepest(\n",
    "    A::AbstractMatrix, \n",
    "    b::Vector, \n",
    "    x0::Vector;\n",
    "    etol::Number = 1.0e-5, \n",
    "    Maxiter = 100_000)\n",
    "\n",
    "    x = similar(x0)\n",
    "    for i in 1:Maxiter\n",
    "        v = b - A*x0\n",
    "        t = dot(v,(b-A*x0))/dot(v, (A*v))\n",
    "        x = x0 + t*v\n",
    "        if norm(A*x-b, Inf)<etol\n",
    "            nitter = i\n",
    "            println(nitter)\n",
    "            return x\n",
    "        else \n",
    "            x0 = x\n",
    "        end\n",
    "    end\n",
    "    return nothing\n",
    "end\n",
    "\n",
    "\n",
    "function iteration_orthogonal(\n",
    "    A::AbstractMatrix, \n",
    "    b::Vector, \n",
    "    x0::Vector;\n",
    "    etol::Number = 1.0e-5, \n",
    "    Maxiter = 100_000)\n",
    "\n",
    "    x = similar(x0)\n",
    "    for i in 1:Maxiter\n",
    "        v = b - A*x0\n",
    "        t = dot(v,(b-A*x0))/dot(v, (A*v))\n",
    "        x = x0 + t*v\n",
    "        if norm(A*x-b, Inf)<etol\n",
    "            nitter = i\n",
    "            println(nitter)\n",
    "            return x\n",
    "        else \n",
    "            x0 = x\n",
    "        end\n",
    "    end\n",
    "    return nothing\n",
    "end"
   ]
  },
  {
   "cell_type": "code",
   "execution_count": 31,
   "metadata": {},
   "outputs": [
    {
     "data": {
      "text/plain": [
       "4×4 Matrix{Float64}:\n",
       " 10.0  -1.0   2.0   0.0\n",
       " -1.0  11.0  -1.0   3.0\n",
       "  2.0  -1.0  10.0  -1.0\n",
       "  0.0   3.0  -1.0   8.0"
      ]
     },
     "metadata": {},
     "output_type": "display_data"
    }
   ],
   "source": [
    "A = [10.0 -1.0 2.0 0.0; -1 11 -1 3; 2 -1 10 -1; 0 3 -1 8]\n",
    "b = [6.0, 25, -11, 15]\n",
    "x0 = [1.0, 1, -1, 1]\n",
    "A"
   ]
  },
  {
   "cell_type": "code",
   "execution_count": 48,
   "metadata": {},
   "outputs": [
    {
     "data": {
      "text/plain": [
       "4-element Vector{Float64}:\n",
       "  0.9999999998732451\n",
       "  1.9999999998598545\n",
       " -0.9999999999235769\n",
       "  1.0000000001243183"
      ]
     },
     "metadata": {},
     "output_type": "display_data"
    }
   ],
   "source": [
    "x1 = iteration_jacobi(A, b, x0, etol=1.0e-10)\n",
    "x12 = iteration_jacobi3(A, b, x0, etol=1.0e-10)\n",
    "x2 = iteration_seidel3(A, b, x0, etol=1.0e-10)\n",
    "x3 = iteration_sor3(A, b, x0, 0.7, etol=1.0e-10)\n",
    "# x4 = iteration_steepest(A, b, x0, etol = 1.0e-5)\n",
    "\n",
    "# [norm(b-A*x) for x in [x1, x2, x3, x4]]"
   ]
  },
  {
   "cell_type": "code",
   "execution_count": 46,
   "metadata": {},
   "outputs": [
    {
     "name": "stdout",
     "output_type": "stream",
     "text": [
      "  3.474 μs (80 allocations: 7.50 KiB)\n",
      "  1.645 μs (32 allocations: 3.00 KiB)\n",
      "  5.711 μs (107 allocations: 10.03 KiB)\n"
     ]
    },
    {
     "data": {
      "text/plain": [
       "4-element Vector{Float64}:\n",
       "  0.9999999998482731\n",
       "  1.9999999998061628\n",
       " -0.9999999999038084\n",
       "  1.0000000001843592"
      ]
     },
     "metadata": {},
     "output_type": "display_data"
    }
   ],
   "source": [
    "@btime iteration_jacobi3(A, b, x0, etol=1.0e-10)\n",
    "@btime iteration_seidel3(A, b, x0, etol=1.0e-10)\n",
    "@btime iteration_sor3(A, b, x0, 0.6, etol=1.0e-10)"
   ]
  },
  {
   "cell_type": "code",
   "execution_count": 51,
   "metadata": {},
   "outputs": [
    {
     "data": {
      "text/plain": [
       "5.756106702392572e-10"
      ]
     },
     "metadata": {},
     "output_type": "display_data"
    }
   ],
   "source": [
    "norm(A*x1 - b, Inf)"
   ]
  },
  {
   "cell_type": "code",
   "execution_count": 52,
   "metadata": {},
   "outputs": [
    {
     "data": {
      "text/plain": [
       "4-element Vector{Float64}:\n",
       "  0.9999999999779753\n",
       "  2.000000000036613\n",
       " -1.0000000000284026\n",
       "  1.0000000000408134"
      ]
     },
     "metadata": {},
     "output_type": "display_data"
    }
   ],
   "source": [
    "x1"
   ]
  },
  {
   "cell_type": "code",
   "execution_count": 53,
   "metadata": {},
   "outputs": [
    {
     "data": {
      "text/plain": [
       "4-element Vector{Float64}:\n",
       "  1.0000000000016507\n",
       "  2.000000000000011\n",
       " -1.0000000000005111\n",
       "  0.9999999999999318"
      ]
     },
     "metadata": {},
     "output_type": "display_data"
    }
   ],
   "source": [
    "x2"
   ]
  },
  {
   "cell_type": "code",
   "execution_count": 54,
   "metadata": {},
   "outputs": [
    {
     "data": {
      "text/plain": [
       "4-element Vector{Float64}:\n",
       "  0.9999999998732451\n",
       "  1.9999999998598545\n",
       " -0.9999999999235769\n",
       "  1.0000000001243183"
      ]
     },
     "metadata": {},
     "output_type": "display_data"
    }
   ],
   "source": [
    "x3"
   ]
  },
  {
   "cell_type": "code",
   "execution_count": null,
   "metadata": {},
   "outputs": [],
   "source": [
    "spectral_radius(inv(D)*(L+U))"
   ]
  },
  {
   "cell_type": "code",
   "execution_count": null,
   "metadata": {},
   "outputs": [],
   "source": [
    "spectral_radius(inv(D+L)U)"
   ]
  },
  {
   "cell_type": "code",
   "execution_count": null,
   "metadata": {},
   "outputs": [],
   "source": [
    "x'*x"
   ]
  },
  {
   "cell_type": "code",
   "execution_count": null,
   "metadata": {},
   "outputs": [],
   "source": [
    "dot(x,x)"
   ]
  },
  {
   "cell_type": "code",
   "execution_count": 41,
   "metadata": {},
   "outputs": [
    {
     "ename": "UndefVarError",
     "evalue": "UndefVarError: `diagonal` not defined",
     "output_type": "error",
     "traceback": [
      "UndefVarError: `diagonal` not defined\n",
      "\n",
      "Stacktrace:\n",
      " [1] top-level scope\n",
      "   @ ~/Documents/Projects/NumericalAnalysisJulia/src/numerical_analysis_using_julia/ch08_iterative_method_for_linear_system/ch08_01.ipynb:1"
     ]
    }
   ],
   "source": [
    "diagonal(A)"
   ]
  },
  {
   "cell_type": "code",
   "execution_count": 43,
   "metadata": {},
   "outputs": [
    {
     "data": {
      "text/plain": [
       "4×4 UpperTriangular{Float64, Matrix{Float64}}:\n",
       " 10.0  -1.0   2.0   0.0\n",
       "   ⋅   11.0  -1.0   3.0\n",
       "   ⋅     ⋅   10.0  -1.0\n",
       "   ⋅     ⋅     ⋅    8.0"
      ]
     },
     "metadata": {},
     "output_type": "display_data"
    }
   ],
   "source": [
    "UpperTriangular(A)"
   ]
  },
  {
   "cell_type": "code",
   "execution_count": null,
   "metadata": {},
   "outputs": [],
   "source": []
  }
 ],
 "metadata": {
  "kernelspec": {
   "display_name": "Julia 1.10.2",
   "language": "julia",
   "name": "julia-1.10"
  },
  "language_info": {
   "file_extension": ".jl",
   "mimetype": "application/julia",
   "name": "julia",
   "version": "1.10.2"
  }
 },
 "nbformat": 4,
 "nbformat_minor": 2
}
