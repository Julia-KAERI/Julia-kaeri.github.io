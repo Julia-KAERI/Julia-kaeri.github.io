{
 "cells": [
  {
   "cell_type": "code",
   "execution_count": 1,
   "metadata": {},
   "outputs": [],
   "source": [
    "using FFTW, Plots, NAJ, LaTeXStrings, nTomo"
   ]
  },
  {
   "cell_type": "code",
   "execution_count": 3,
   "metadata": {},
   "outputs": [
    {
     "data": {
      "text/plain": [
       "\"/Users/jiyong/Documents/Projects/NumericalAnalysisJulia/src/image_processing/imgs/tomography/fbp_window.png\""
      ]
     },
     "metadata": {},
     "output_type": "display_data"
    }
   ],
   "source": [
    "N=1024\n",
    "plot(fourier_filter2(N, \"ramp\"), label = \"Ramp\", frame=:box, size=(600, 400), dpi=300)\n",
    "plot!(fourier_filter2(N, \"shepp-logan\"), label=\"Shepp-Logan\")\n",
    "plot!(fourier_filter2(N, \"cosine\"), label=\"Cosine\")\n",
    "plot!(fourier_filter2(N, \"hamming\"), label=\"Hamming\")\n",
    "plot!(fourier_filter2(N, \"hann\"), label=\"Hann\")\n",
    "savefig(\"../imgs/tomography/fbp_window.png\")"
   ]
  },
  {
   "cell_type": "code",
   "execution_count": null,
   "metadata": {},
   "outputs": [],
   "source": [
    "#plot(lamp(10))\n",
    "plot(shepp_logan(N))\n",
    "\n"
   ]
  },
  {
   "cell_type": "code",
   "execution_count": null,
   "metadata": {},
   "outputs": [],
   "source": [
    "source = -10:10\n",
    "\n",
    "\n",
    "\n",
    "X = [[x, -20] for x in source] # 빔의 위치\n",
    "T = [[x, 20] for x in source]  # 검출기 위치\n",
    "\n",
    "function rot(P, θ)\n",
    "    x, y = P[1], P[2]\n",
    "    return [x*cos(θ) + y*sin(θ), -x*sin(θ) + y*cos(θ)]\n",
    "end\n",
    "\n",
    "p1=plot(label =:none, aspect_ratio = :equal, frame=:box)\n",
    "\n",
    "for θ in 0:π/√615:π\n",
    "    Y = [rot(x, θ) for x in X]\n",
    "    S = [rot(y, θ) for y in T]\n",
    "    for ind in eachindex(X)\n",
    "        plot!([Y[ind][1], S[ind][1]], [Y[ind][2], S[ind][2]] , label = :none, color = :red)\n",
    "    end\n",
    "end\n",
    "plot(p1)\n"
   ]
  },
  {
   "cell_type": "code",
   "execution_count": null,
   "metadata": {},
   "outputs": [],
   "source": [
    "rot(X[1], -π/2)"
   ]
  },
  {
   "cell_type": "code",
   "execution_count": null,
   "metadata": {},
   "outputs": [],
   "source": [
    "p2 = scatter((1:length(y)), abs.(fy1), color=:red, frame = :box, label = \"FFT\")"
   ]
  },
  {
   "cell_type": "code",
   "execution_count": null,
   "metadata": {},
   "outputs": [],
   "source": [
    "function four_rect(u)\n",
    "    if abs(u)<1.0e-10\n",
    "        return one(u)\n",
    "    else\n",
    "        return sin(π * u )/(π * u)\n",
    "    end\n",
    "end\n",
    "t = -1:0.01:1\n",
    "f = zeros(length(t))\n",
    "f[abs.(t).<0.5] .= 1.0\n",
    "p1=plot(t, f, xticks =([-0.5, 0, 0.5], [L\"-w/2\", L\"0\", L\"w/2\"]), lw=2, lc=:red, label = L\"f(t)\")\n",
    "t2 = -10:0.01:10\n",
    "p2 = plot(t2, four_rect.(t2), xticks =([-5, 0, 5], [L\"-5/w\", L\"0\", L\"5/w\"]), lc = :blue, lw=2, label = L\"F(u)\")\n",
    "p3 = plot(t2, abs.(four_rect.(t2)), xticks =([-5, 0, 5], [L\"-5/w\", L\"0\", L\"5/w\"]), lc = :green, lw=2, label = L\"|F(u)|\")\n",
    "\n",
    "\n",
    "plot(p1, p2, p3, layout=(1, 3), size = (1000, 400), dpi=300)\n",
    "\n",
    "#savefig(\"fourier_of_rect.png\")"
   ]
  },
  {
   "cell_type": "code",
   "execution_count": null,
   "metadata": {},
   "outputs": [],
   "source": []
  },
  {
   "cell_type": "code",
   "execution_count": null,
   "metadata": {},
   "outputs": [],
   "source": [
    "A= zeros(Float64, (256, 256))\n",
    "for x ∈ 1:256, y ∈ 1:256\n",
    "    xp, yp = 32*round(x/32), 32*round(y/32)\n",
    "    if (x-xp)^2 + (y-yp)^2 < 8\n",
    "        A[x, y] = 1.0\n",
    "    end\n",
    "end\n",
    "\n",
    "p1=heatmap(A, aspect_ratio = :equal, size=(600, 400), title= L\"f\")\n",
    "Af = fft(A)\n",
    "p2 = heatmap(log10.(abs.(Af) .+ 1.0), aspect_ratio = :equal, size= (600, 400), title = L\"\\log (\\textrm{abs}(\\mathfrak{F}[f]) +1)\")\n",
    "\n",
    "plot(p1, p2)\n"
   ]
  },
  {
   "cell_type": "code",
   "execution_count": null,
   "metadata": {},
   "outputs": [],
   "source": [
    "x, y =825, 769\n",
    "p, yp = 64*round(x/64), 64*round(y/64)"
   ]
  },
  {
   "cell_type": "code",
   "execution_count": null,
   "metadata": {},
   "outputs": [],
   "source": [
    "extrema(abs.(Af))"
   ]
  },
  {
   "cell_type": "code",
   "execution_count": null,
   "metadata": {},
   "outputs": [],
   "source": [
    "fft([1,1,1,1,1])"
   ]
  },
  {
   "cell_type": "code",
   "execution_count": null,
   "metadata": {},
   "outputs": [],
   "source": [
    "ifft(fft([0,0,1,0,0]))"
   ]
  },
  {
   "cell_type": "code",
   "execution_count": null,
   "metadata": {},
   "outputs": [],
   "source": [
    "ifft(fft([1,0,0,0,0]))"
   ]
  },
  {
   "cell_type": "code",
   "execution_count": null,
   "metadata": {},
   "outputs": [],
   "source": []
  }
 ],
 "metadata": {
  "kernelspec": {
   "display_name": "Julia 1.10.0",
   "language": "julia",
   "name": "julia-1.10"
  },
  "language_info": {
   "file_extension": ".jl",
   "mimetype": "application/julia",
   "name": "julia",
   "version": "1.10.0"
  }
 },
 "nbformat": 4,
 "nbformat_minor": 2
}
