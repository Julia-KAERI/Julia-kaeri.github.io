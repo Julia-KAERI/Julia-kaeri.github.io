{
 "cells": [
  {
   "cell_type": "code",
   "execution_count": 1,
   "metadata": {},
   "outputs": [],
   "source": [
    " using Plots\n"
   ]
  },
  {
   "cell_type": "code",
   "execution_count": 13,
   "metadata": {},
   "outputs": [
    {
     "data": {
      "text/plain": [
       "logspace (generic function with 3 methods)"
      ]
     },
     "metadata": {},
     "output_type": "display_data"
    }
   ],
   "source": [
    "struct LogSpacingArray\n",
    "    start::Real\n",
    "    stop::Real\n",
    "    size::Int64\n",
    "    base::Real\n",
    "    \n",
    "\n",
    "    function LogSpacingArray(start::Real, stop::Real, size::Int64, base::Real)\n",
    "        println(start, stop, size, base )\n",
    "        @assert base > 1\n",
    "        @assert size ≥ 1\n",
    "        ftype = promote_type(typeof(start), typeof(stop))\n",
    "        return new(ftype(start), ftype(stop), size, ftype(base))\n",
    "    end\n",
    "end\n",
    "\n",
    "Base.size(p::LogSpacingArray) = (p.size, )\n",
    "Base.length(p::LogSpacingArray) = p.size\n",
    "Base.iterate(p::LogSpacingArray, state=1) = state > p.size ? nothing : (p[state], state+1)\n",
    "\n",
    "function Base.getindex(p::LogSpacingArray, i::Int64) \n",
    "    @assert 0 < i ≤ p.size\n",
    "    if p.size == 1\n",
    "        return p.start\n",
    "    r = p.start + (p.stop-p.start)/(p.size-1)*N\n",
    "    return (p.base)^r\n",
    "end\n",
    "\n",
    "function logspace(a, b, n::Integer=10, base::Real=10)\n",
    "    return LogSpacingArray(a, b, n, base)\n",
    "end\n",
    "\n"
   ]
  },
  {
   "cell_type": "code",
   "execution_count": 14,
   "metadata": {},
   "outputs": [
    {
     "name": "stdout",
     "output_type": "stream",
     "text": [
      "15310\n"
     ]
    },
    {
     "data": {
      "text/plain": [
       "LogSpacingArray(1, 5, 3, 10)"
      ]
     },
     "metadata": {},
     "output_type": "display_data"
    }
   ],
   "source": [
    "p = LogSpacingArray(1, 5, 3, 10)"
   ]
  },
  {
   "cell_type": "code",
   "execution_count": 15,
   "metadata": {},
   "outputs": [
    {
     "data": {
      "text/plain": [
       "3-element Vector{Any}:\n",
       "     10.0\n",
       "   1000.0\n",
       " 100000.0"
      ]
     },
     "metadata": {},
     "output_type": "display_data"
    }
   ],
   "source": [
    "collect(p)\n"
   ]
  },
  {
   "cell_type": "code",
   "execution_count": 16,
   "metadata": {},
   "outputs": [
    {
     "data": {
      "text/plain": [
       "10.0"
      ]
     },
     "metadata": {},
     "output_type": "display_data"
    }
   ],
   "source": [
    "p[1]"
   ]
  },
  {
   "cell_type": "code",
   "execution_count": null,
   "metadata": {},
   "outputs": [],
   "source": [
    "iterate(a, -2)"
   ]
  },
  {
   "cell_type": "code",
   "execution_count": 17,
   "metadata": {},
   "outputs": [
    {
     "data": {
      "text/plain": [
       "100000"
      ]
     },
     "metadata": {},
     "output_type": "display_data"
    }
   ],
   "source": [
    "10^5"
   ]
  },
  {
   "cell_type": "code",
   "execution_count": null,
   "metadata": {},
   "outputs": [],
   "source": []
  }
 ],
 "metadata": {
  "kernelspec": {
   "display_name": "Julia 1.10.2",
   "language": "julia",
   "name": "julia-1.10"
  },
  "language_info": {
   "file_extension": ".jl",
   "mimetype": "application/julia",
   "name": "julia",
   "version": "1.10.2"
  }
 },
 "nbformat": 4,
 "nbformat_minor": 2
}
