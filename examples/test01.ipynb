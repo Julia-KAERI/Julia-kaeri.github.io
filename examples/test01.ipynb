{
 "cells": [
  {
   "cell_type": "code",
   "execution_count": 1,
   "metadata": {},
   "outputs": [],
   "source": [
    "using LinearAlgebra, SparseArrays, FFTW, BenchmarkTools, Test\n",
    "using CUDA, CUDA.CUSPARSE, CUDA.CUFFT"
   ]
  },
  {
   "cell_type": "code",
   "execution_count": 2,
   "metadata": {},
   "outputs": [],
   "source": [
    "function my_kernel(a)\n",
    "    i = threadIdx().x\n",
    "    a[i] = 42\n",
    "    return\n",
    "end\n",
    "\n",
    "a = CuArray{Int}(undef, 5);\n",
    "@cuda threads=length(a) my_kernel(a);"
   ]
  },
  {
   "cell_type": "code",
   "execution_count": 3,
   "metadata": {},
   "outputs": [
    {
     "data": {
      "text/plain": [
       "5-element CuArray{Int64, 1, CUDA.DeviceMemory}:\n",
       " 42\n",
       " 42\n",
       " 42\n",
       " 42\n",
       " 42"
      ]
     },
     "execution_count": 3,
     "metadata": {},
     "output_type": "execute_result"
    }
   ],
   "source": [
    "a"
   ]
  },
  {
   "cell_type": "code",
   "execution_count": 11,
   "metadata": {},
   "outputs": [
    {
     "ename": "LoadError",
     "evalue": "InvalidIRError: compiling MethodInstance for my_outer_kernel(::typeof(id), ::CuDeviceMatrix{Int64, 1}) resulted in invalid LLVM IR\n\u001b[31mReason: unsupported dynamic function invocation\u001b[39m\u001b[31m (call to my_inner_kernel!(\u001b[90mf\u001b[39m, \u001b[90mt\u001b[39m)\u001b[90m @\u001b[39m \u001b[90mMain\u001b[39m \u001b[90m\u001b[4mIn[11]:1\u001b[24m\u001b[39m)\u001b[39m\nStacktrace:\n [1] \u001b[0m\u001b[1mmy_outer_kernel\u001b[22m\n\u001b[90m   @\u001b[39m \u001b[90m./\u001b[39m\u001b[90m\u001b[4mIn[11]:7\u001b[24m\u001b[39m\n\u001b[36m\u001b[1mHint\u001b[22m\u001b[39m\u001b[36m: catch this exception as `err` and call `code_typed(err; interactive = true)` to introspect the erronous code with Cthulhu.jl\u001b[39m",
     "output_type": "error",
     "traceback": [
      "InvalidIRError: compiling MethodInstance for my_outer_kernel(::typeof(id), ::CuDeviceMatrix{Int64, 1}) resulted in invalid LLVM IR\n\u001b[31mReason: unsupported dynamic function invocation\u001b[39m\u001b[31m (call to my_inner_kernel!(\u001b[90mf\u001b[39m, \u001b[90mt\u001b[39m)\u001b[90m @\u001b[39m \u001b[90mMain\u001b[39m \u001b[90m\u001b[4mIn[11]:1\u001b[24m\u001b[39m)\u001b[39m\nStacktrace:\n [1] \u001b[0m\u001b[1mmy_outer_kernel\u001b[22m\n\u001b[90m   @\u001b[39m \u001b[90m./\u001b[39m\u001b[90m\u001b[4mIn[11]:7\u001b[24m\u001b[39m\n\u001b[36m\u001b[1mHint\u001b[22m\u001b[39m\u001b[36m: catch this exception as `err` and call `code_typed(err; interactive = true)` to introspect the erronous code with Cthulhu.jl\u001b[39m",
      "",
      "Stacktrace:",
      "  [1] check_ir(job::GPUCompiler.CompilerJob{GPUCompiler.PTXCompilerTarget, CUDA.CUDACompilerParams}, args::LLVM.Module)",
      "    @ GPUCompiler ~/.julia/packages/GPUCompiler/2CW9L/src/validation.jl:147",
      "  [2] macro expansion",
      "    @ ~/.julia/packages/GPUCompiler/2CW9L/src/driver.jl:382 [inlined]",
      "  [3] macro expansion",
      "    @ ~/.julia/packages/TimerOutputs/NRdsv/src/TimerOutput.jl:253 [inlined]",
      "  [4] macro expansion",
      "    @ ~/.julia/packages/GPUCompiler/2CW9L/src/driver.jl:381 [inlined]",
      "  [5] emit_llvm(job::GPUCompiler.CompilerJob; toplevel::Bool, libraries::Bool, optimize::Bool, cleanup::Bool, validate::Bool, only_entry::Bool)",
      "    @ GPUCompiler ~/.julia/packages/GPUCompiler/2CW9L/src/utils.jl:108",
      "  [6] emit_llvm",
      "    @ ~/.julia/packages/GPUCompiler/2CW9L/src/utils.jl:106 [inlined]",
      "  [7] codegen(output::Symbol, job::GPUCompiler.CompilerJob; toplevel::Bool, libraries::Bool, optimize::Bool, cleanup::Bool, validate::Bool, strip::Bool, only_entry::Bool, parent_job::Nothing)",
      "    @ GPUCompiler ~/.julia/packages/GPUCompiler/2CW9L/src/driver.jl:100",
      "  [8] codegen",
      "    @ ~/.julia/packages/GPUCompiler/2CW9L/src/driver.jl:82 [inlined]",
      "  [9] compile(target::Symbol, job::GPUCompiler.CompilerJob; kwargs::@Kwargs{})",
      "    @ GPUCompiler ~/.julia/packages/GPUCompiler/2CW9L/src/driver.jl:79",
      " [10] compile",
      "    @ ~/.julia/packages/GPUCompiler/2CW9L/src/driver.jl:74 [inlined]",
      " [11] #1145",
      "    @ ~/.julia/packages/CUDA/2kjXI/src/compiler/compilation.jl:250 [inlined]",
      " [12] JuliaContext(f::CUDA.var\"#1145#1148\"{GPUCompiler.CompilerJob{GPUCompiler.PTXCompilerTarget, CUDA.CUDACompilerParams}}; kwargs::@Kwargs{})",
      "    @ GPUCompiler ~/.julia/packages/GPUCompiler/2CW9L/src/driver.jl:34",
      " [13] JuliaContext(f::Function)",
      "    @ GPUCompiler ~/.julia/packages/GPUCompiler/2CW9L/src/driver.jl:25",
      " [14] compile(job::GPUCompiler.CompilerJob)",
      "    @ CUDA ~/.julia/packages/CUDA/2kjXI/src/compiler/compilation.jl:249",
      " [15] actual_compilation(cache::Dict{Any, CuFunction}, src::Core.MethodInstance, world::UInt64, cfg::GPUCompiler.CompilerConfig{GPUCompiler.PTXCompilerTarget, CUDA.CUDACompilerParams}, compiler::typeof(CUDA.compile), linker::typeof(CUDA.link))",
      "    @ GPUCompiler ~/.julia/packages/GPUCompiler/2CW9L/src/execution.jl:237",
      " [16] cached_compilation(cache::Dict{Any, CuFunction}, src::Core.MethodInstance, cfg::GPUCompiler.CompilerConfig{GPUCompiler.PTXCompilerTarget, CUDA.CUDACompilerParams}, compiler::Function, linker::Function)",
      "    @ GPUCompiler ~/.julia/packages/GPUCompiler/2CW9L/src/execution.jl:151",
      " [17] macro expansion",
      "    @ ~/.julia/packages/CUDA/2kjXI/src/compiler/execution.jl:380 [inlined]",
      " [18] macro expansion",
      "    @ ./lock.jl:273 [inlined]",
      " [19] cufunction(f::typeof(my_outer_kernel), tt::Type{Tuple{typeof(id), CuDeviceMatrix{Int64, 1}}}; kwargs::@Kwargs{})",
      "    @ CUDA ~/.julia/packages/CUDA/2kjXI/src/compiler/execution.jl:375",
      " [20] cufunction(f::typeof(my_outer_kernel), tt::Type{Tuple{typeof(id), CuDeviceMatrix{Int64, 1}}})",
      "    @ CUDA ~/.julia/packages/CUDA/2kjXI/src/compiler/execution.jl:372",
      " [21] top-level scope",
      "    @ ~/.julia/packages/CUDA/2kjXI/src/compiler/execution.jl:112"
     ]
    }
   ],
   "source": [
    "function my_inner_kernel!(f, t) # does not specialize\n",
    "    t .= f.(t)\n",
    "end\n",
    "\n",
    "function my_outer_kernel(f, a)\n",
    "    i = threadIdx().x\n",
    "    my_inner_kernel!(f, @view a[i, :])\n",
    "    return nothing\n",
    "end\n",
    "\n",
    "a = CUDA.rand(Int, (2,2))\n",
    "id(x) = x\n",
    "\n",
    "@cuda threads=size(a, 1) my_outer_kernel(id, a)"
   ]
  },
  {
   "cell_type": "code",
   "execution_count": 8,
   "metadata": {},
   "outputs": [
    {
     "data": {
      "text/plain": [
       "CUDA.HostKernel for my_outer_kernel(typeof(id), CuDeviceMatrix{Int64, 1})"
      ]
     },
     "execution_count": 8,
     "metadata": {},
     "output_type": "execute_result"
    }
   ],
   "source": [
    "function my_inner_kernel!(f::F, t::T) where {F,T}\n",
    "    t .= f.(t)\n",
    "end\n",
    "\n",
    "function my_outer_kernel(f, a)\n",
    "    i = threadIdx().x\n",
    "    my_inner_kernel!(f, @view a[i, :])\n",
    "    return nothing\n",
    "end\n",
    "\n",
    "a = CUDA.rand(Int, (2,2))\n",
    "\n",
    "id(x) = x\n",
    "\n",
    "@cuda threads=size(a, 1) my_outer_kernel(id, a)"
   ]
  },
  {
   "cell_type": "code",
   "execution_count": 12,
   "metadata": {},
   "outputs": [
    {
     "data": {
      "text/plain": [
       "CUDA.HostKernel for reverse_kernel(CuDeviceVector{Int64, 1})"
      ]
     },
     "execution_count": 12,
     "metadata": {},
     "output_type": "execute_result"
    }
   ],
   "source": [
    "function reverse_kernel(a::CuDeviceArray{T}) where T\n",
    "    i = threadIdx().x\n",
    "    b = CuStaticSharedArray(T, 2)\n",
    "    b[2-i+1] = a[i]\n",
    "    sync_threads()\n",
    "    a[i] = b[i]\n",
    "    return\n",
    "end\n",
    "\n",
    "a = cu([1,2])\n",
    "\n",
    "@cuda threads = 2 reverse_kernel(a)"
   ]
  },
  {
   "cell_type": "code",
   "execution_count": 16,
   "metadata": {},
   "outputs": [
    {
     "data": {
      "text/plain": [
       "CUDA.HostKernel for reverse_kernel(CuDeviceVector{Int64, 1})"
      ]
     },
     "execution_count": 16,
     "metadata": {},
     "output_type": "execute_result"
    }
   ],
   "source": [
    "function reverse_kernel(a::CuDeviceArray{T}) where T\n",
    "    i = threadIdx().x\n",
    "    b = CuDynamicSharedArray(T, length(a))\n",
    "    b[length(a)-i+1] = a[i]\n",
    "    sync_threads()\n",
    "    a[i] = b[i]\n",
    "    return\n",
    "end\n",
    "\n",
    "a = cu([1,2,3, 5])\n",
    "\n",
    "@cuda threads=length(a) shmem=sizeof(a) reverse_kernel(a)"
   ]
  },
  {
   "cell_type": "code",
   "execution_count": 17,
   "metadata": {},
   "outputs": [
    {
     "data": {
      "text/plain": [
       "4-element CuArray{Int64, 1, CUDA.DeviceMemory}:\n",
       " 5\n",
       " 3\n",
       " 2\n",
       " 1"
      ]
     },
     "execution_count": 17,
     "metadata": {},
     "output_type": "execute_result"
    }
   ],
   "source": [
    "a"
   ]
  },
  {
   "cell_type": "code",
   "execution_count": null,
   "metadata": {},
   "outputs": [],
   "source": [
    "using "
   ]
  },
  {
   "cell_type": "code",
   "execution_count": 26,
   "metadata": {},
   "outputs": [
    {
     "data": {
      "text/plain": [
       "Cholesky{Float32, CuArray{Float32, 2, CUDA.DeviceMemory}}\n",
       "U factor:\n",
       "3×3 UpperTriangular{Float32, CuArray{Float32, 2, CUDA.DeviceMemory}}:\n",
       " 0.685254  0.386212  0.527034\n",
       "  ⋅        0.977934  0.542067\n",
       "  ⋅         ⋅        0.182822"
      ]
     },
     "execution_count": 26,
     "metadata": {},
     "output_type": "execute_result"
    }
   ],
   "source": [
    "cholesky(A)"
   ]
  },
  {
   "cell_type": "code",
   "execution_count": 32,
   "metadata": {},
   "outputs": [
    {
     "data": {
      "text/plain": [
       "33-element CuArray{Float64, 1, CUDA.DeviceMemory}:\n",
       " 0.6039031468344143\n",
       " 0.07820569791269638\n",
       " 0.39737596504279893\n",
       " 0.8366767710843347\n",
       " 0.1355349047603367\n",
       " 0.620027224469006\n",
       " 0.7493612531248238\n",
       " 0.9509819490258438\n",
       " 0.3396524595929371\n",
       " 0.07685341787368771\n",
       " 0.5526647315131051\n",
       " 0.4115848747669809\n",
       " 0.4660764773388031\n",
       " ⋮\n",
       " 0.8752954546330955\n",
       " 0.6817879737018145\n",
       " 0.3107973631356781\n",
       " 0.4076293888082748\n",
       " 0.5730931196097949\n",
       " 0.3213292733791735\n",
       " 0.09249037240516944\n",
       " 0.419741901565465\n",
       " 0.2801374248225166\n",
       " 0.8489863552701344\n",
       " 0.7639768606072798\n",
       " 0.7149204562461796"
      ]
     },
     "execution_count": 32,
     "metadata": {},
     "output_type": "execute_result"
    }
   ],
   "source": [
    "x = sprand(100, 0.3);\n",
    "cx = CuSparseVector(x);\n",
    "nonzeros(cx)"
   ]
  },
  {
   "cell_type": "code",
   "execution_count": 68,
   "metadata": {},
   "outputs": [],
   "source": [
    "d1 = rand(Float32, 2048, 2048);\n",
    "c1 = CuArray(d1);"
   ]
  },
  {
   "cell_type": "code",
   "execution_count": 69,
   "metadata": {},
   "outputs": [
    {
     "data": {
      "text/plain": [
       "BenchmarkTools.Trial: 26 samples with 1 evaluation.\n",
       " Range \u001b[90m(\u001b[39m\u001b[36m\u001b[1mmin\u001b[22m\u001b[39m … \u001b[35mmax\u001b[39m\u001b[90m):  \u001b[39m\u001b[36m\u001b[1m115.318 ms\u001b[22m\u001b[39m … \u001b[35m233.668 ms\u001b[39m  \u001b[90m┊\u001b[39m GC \u001b[90m(\u001b[39mmin … max\u001b[90m): \u001b[39m0.00% … 1.47%\n",
       " Time  \u001b[90m(\u001b[39m\u001b[34m\u001b[1mmedian\u001b[22m\u001b[39m\u001b[90m):     \u001b[39m\u001b[34m\u001b[1m187.126 ms               \u001b[22m\u001b[39m\u001b[90m┊\u001b[39m GC \u001b[90m(\u001b[39mmedian\u001b[90m):    \u001b[39m1.84%\n",
       " Time  \u001b[90m(\u001b[39m\u001b[32m\u001b[1mmean\u001b[22m\u001b[39m ± \u001b[32mσ\u001b[39m\u001b[90m):   \u001b[39m\u001b[32m\u001b[1m195.700 ms\u001b[22m\u001b[39m ± \u001b[32m 36.154 ms\u001b[39m  \u001b[90m┊\u001b[39m GC \u001b[90m(\u001b[39mmean ± σ\u001b[90m):  \u001b[39m1.59% ± 0.57%\n",
       "\n",
       "  \u001b[39m \u001b[39m \u001b[39m \u001b[39m \u001b[39m \u001b[39m \u001b[39m \u001b[39m \u001b[39m \u001b[39m \u001b[39m \u001b[39m \u001b[39m \u001b[39m \u001b[39m \u001b[39m \u001b[39m \u001b[39m \u001b[39m \u001b[39m \u001b[39m \u001b[39m \u001b[39m \u001b[39m \u001b[39m \u001b[39m \u001b[39m \u001b[39m \u001b[39m \u001b[39m \u001b[39m \u001b[39m \u001b[39m \u001b[39m \u001b[39m▂\u001b[39m \u001b[39m▅\u001b[34m \u001b[39m\u001b[39m \u001b[39m \u001b[39m \u001b[32m \u001b[39m\u001b[39m \u001b[39m \u001b[39m \u001b[39m \u001b[39m \u001b[39m \u001b[39m \u001b[39m \u001b[39m \u001b[39m \u001b[39m \u001b[39m \u001b[39m \u001b[39m \u001b[39m \u001b[39m \u001b[39m█\u001b[39m \u001b[39m \u001b[39m \u001b[39m \n",
       "  \u001b[39m█\u001b[39m▅\u001b[39m▁\u001b[39m▁\u001b[39m▁\u001b[39m▁\u001b[39m▁\u001b[39m▁\u001b[39m▁\u001b[39m▁\u001b[39m▁\u001b[39m▁\u001b[39m▁\u001b[39m▁\u001b[39m▁\u001b[39m▁\u001b[39m▁\u001b[39m▁\u001b[39m▁\u001b[39m▁\u001b[39m▁\u001b[39m▁\u001b[39m▁\u001b[39m▁\u001b[39m▁\u001b[39m▁\u001b[39m▁\u001b[39m▁\u001b[39m▁\u001b[39m▁\u001b[39m▁\u001b[39m▁\u001b[39m▁\u001b[39m▅\u001b[39m█\u001b[39m█\u001b[39m█\u001b[34m█\u001b[39m\u001b[39m▁\u001b[39m▁\u001b[39m▁\u001b[32m▁\u001b[39m\u001b[39m▁\u001b[39m▁\u001b[39m▁\u001b[39m▁\u001b[39m▁\u001b[39m▁\u001b[39m▁\u001b[39m▁\u001b[39m▁\u001b[39m▁\u001b[39m▁\u001b[39m▁\u001b[39m▁\u001b[39m▁\u001b[39m▅\u001b[39m█\u001b[39m█\u001b[39m▅\u001b[39m█\u001b[39m \u001b[39m▁\n",
       "  115 ms\u001b[90m           Histogram: frequency by time\u001b[39m          234 ms \u001b[0m\u001b[1m<\u001b[22m\n",
       "\n",
       " Memory estimate\u001b[90m: \u001b[39m\u001b[33m64.00 MiB\u001b[39m, allocs estimate\u001b[90m: \u001b[39m\u001b[33m11\u001b[39m."
      ]
     },
     "execution_count": 69,
     "metadata": {},
     "output_type": "execute_result"
    }
   ],
   "source": [
    "@benchmark fft(d1)"
   ]
  },
  {
   "cell_type": "code",
   "execution_count": 71,
   "metadata": {},
   "outputs": [
    {
     "data": {
      "text/plain": [
       "BenchmarkTools.Trial: 6485 samples with 1 evaluation.\n",
       " Range \u001b[90m(\u001b[39m\u001b[36m\u001b[1mmin\u001b[22m\u001b[39m … \u001b[35mmax\u001b[39m\u001b[90m):  \u001b[39m\u001b[36m\u001b[1m433.504 μs\u001b[22m\u001b[39m … \u001b[35m 11.076 ms\u001b[39m  \u001b[90m┊\u001b[39m GC \u001b[90m(\u001b[39mmin … max\u001b[90m): \u001b[39m0.00% … 18.69%\n",
       " Time  \u001b[90m(\u001b[39m\u001b[34m\u001b[1mmedian\u001b[22m\u001b[39m\u001b[90m):     \u001b[39m\u001b[34m\u001b[1m741.453 μs               \u001b[22m\u001b[39m\u001b[90m┊\u001b[39m GC \u001b[90m(\u001b[39mmedian\u001b[90m):    \u001b[39m0.00%\n",
       " Time  \u001b[90m(\u001b[39m\u001b[32m\u001b[1mmean\u001b[22m\u001b[39m ± \u001b[32mσ\u001b[39m\u001b[90m):   \u001b[39m\u001b[32m\u001b[1m765.796 μs\u001b[22m\u001b[39m ± \u001b[32m767.649 μs\u001b[39m  \u001b[90m┊\u001b[39m GC \u001b[90m(\u001b[39mmean ± σ\u001b[90m):  \u001b[39m1.96% ±  1.84%\n",
       "\n",
       "  \u001b[39m█\u001b[39m▃\u001b[39m \u001b[39m \u001b[39m \u001b[39m \u001b[39m \u001b[39m \u001b[39m \u001b[39m \u001b[39m \u001b[39m \u001b[39m \u001b[39m \u001b[39m \u001b[39m \u001b[39m▇\u001b[34m▇\u001b[39m\u001b[39m▄\u001b[32m▇\u001b[39m\u001b[39m█\u001b[39m▄\u001b[39m▂\u001b[39m \u001b[39m▂\u001b[39m \u001b[39m \u001b[39m \u001b[39m \u001b[39m \u001b[39m \u001b[39m \u001b[39m \u001b[39m \u001b[39m \u001b[39m \u001b[39m \u001b[39m \u001b[39m \u001b[39m \u001b[39m \u001b[39m \u001b[39m \u001b[39m \u001b[39m \u001b[39m \u001b[39m \u001b[39m \u001b[39m \u001b[39m \u001b[39m \u001b[39m \u001b[39m \u001b[39m \u001b[39m \u001b[39m \u001b[39m \u001b[39m \u001b[39m \u001b[39m \u001b[39m \u001b[39m \u001b[39m▂\n",
       "  \u001b[39m█\u001b[39m█\u001b[39m█\u001b[39m▆\u001b[39m█\u001b[39m█\u001b[39m▆\u001b[39m▁\u001b[39m▁\u001b[39m▃\u001b[39m▁\u001b[39m▁\u001b[39m▁\u001b[39m▁\u001b[39m▃\u001b[39m▁\u001b[39m█\u001b[34m█\u001b[39m\u001b[39m█\u001b[32m█\u001b[39m\u001b[39m█\u001b[39m█\u001b[39m█\u001b[39m█\u001b[39m█\u001b[39m█\u001b[39m▆\u001b[39m▄\u001b[39m▁\u001b[39m█\u001b[39m▇\u001b[39m▇\u001b[39m▆\u001b[39m▇\u001b[39m▆\u001b[39m▇\u001b[39m█\u001b[39m▇\u001b[39m▅\u001b[39m▅\u001b[39m▅\u001b[39m█\u001b[39m▆\u001b[39m▆\u001b[39m▅\u001b[39m▃\u001b[39m▅\u001b[39m▆\u001b[39m▇\u001b[39m▃\u001b[39m▁\u001b[39m█\u001b[39m▅\u001b[39m▁\u001b[39m▁\u001b[39m▁\u001b[39m▃\u001b[39m▄\u001b[39m▅\u001b[39m▅\u001b[39m▆\u001b[39m \u001b[39m█\n",
       "  434 μs\u001b[90m        \u001b[39m\u001b[90mHistogram: \u001b[39m\u001b[90m\u001b[1mlog(\u001b[22m\u001b[39m\u001b[90mfrequency\u001b[39m\u001b[90m\u001b[1m)\u001b[22m\u001b[39m\u001b[90m by time\u001b[39m       1.52 ms \u001b[0m\u001b[1m<\u001b[22m\n",
       "\n",
       " Memory estimate\u001b[90m: \u001b[39m\u001b[33m3.58 KiB\u001b[39m, allocs estimate\u001b[90m: \u001b[39m\u001b[33m142\u001b[39m."
      ]
     },
     "execution_count": 71,
     "metadata": {},
     "output_type": "execute_result"
    }
   ],
   "source": [
    "@benchmark CUDA.@sync fft($c1)"
   ]
  },
  {
   "cell_type": "code",
   "execution_count": 59,
   "metadata": {},
   "outputs": [
    {
     "data": {
      "text/plain": [
       "\u001b[32m\u001b[1mTest Passed\u001b[22m\u001b[39m"
      ]
     },
     "execution_count": 59,
     "metadata": {},
     "output_type": "execute_result"
    }
   ],
   "source": [
    "carr1 = CuArray{Float32}(undef,  1024)\n",
    "carr2 = fill!(copy(carr1), 0f0)\n",
    "@test carr2 == CUDA.zeros(Float32, 1024)"
   ]
  },
  {
   "cell_type": "code",
   "execution_count": null,
   "metadata": {},
   "outputs": [
    {
     "data": {
      "text/plain": [
       "1024×1024 Matrix{Float32}:\n",
       " 0.202309   0.439262   0.132544   …  0.0932927  0.496841   0.0942984\n",
       " 0.972338   0.725799   0.775524      0.500368   0.357494   0.280119\n",
       " 0.481463   0.0768188  0.874136      0.785356   0.0594708  0.0391255\n",
       " 0.611652   0.168059   0.771702      0.522558   0.734388   0.582099\n",
       " 0.952296   0.359975   0.803226      0.841998   0.147775   0.947803\n",
       " 0.635537   0.420779   0.359215   …  0.557018   0.121318   0.0227185\n",
       " 0.286994   0.605701   0.343228      0.744424   0.340557   0.829776\n",
       " 0.348642   0.509614   0.412459      0.0766146  0.0522597  0.0356306\n",
       " 0.937924   0.244475   0.623697      0.480176   0.622869   0.979609\n",
       " 0.64576    0.903165   0.345828      0.300507   0.204809   0.665933\n",
       " 0.618522   0.777219   0.858111   …  0.0282814  0.20614    0.75639\n",
       " 0.162471   0.490091   0.661842      0.976594   0.499811   0.94055\n",
       " 0.961984   0.987511   0.184654      0.618866   0.831588   0.480281\n",
       " ⋮                                ⋱                        \n",
       " 0.676752   0.135848   0.759909      0.915887   0.12255    0.0727628\n",
       " 0.761691   0.0614583  0.0105547     0.994751   0.839411   0.0298108\n",
       " 0.0142794  0.571987   0.456638      0.994587   0.0714987  0.435297\n",
       " 0.292569   0.162264   0.0381457  …  0.385807   0.02145    0.577371\n",
       " 0.715276   0.604018   0.568477      0.107899   0.423414   0.894397\n",
       " 0.536905   0.118868   0.49496       0.678878   0.952914   0.873037\n",
       " 0.834541   0.508692   0.300558      0.699489   0.013443   0.398402\n",
       " 0.967339   0.688442   0.529568      0.168905   0.920831   0.926373\n",
       " 0.804129   0.587547   0.720841   …  0.169857   0.557347   0.0665373\n",
       " 0.247585   0.67468    0.381241      0.494774   0.553298   0.651618\n",
       " 0.0548781  0.82482    0.109764      0.306224   0.384479   0.322533\n",
       " 0.276291   0.49702    0.68893       0.735762   0.403711   0.166184"
      ]
     },
     "execution_count": 66,
     "metadata": {},
     "output_type": "execute_result"
    }
   ],
   "source": [
    "carr3 = carr1.^2 + carr2.^2\n",
    "carr4 = map(cos, carr1)\n",
    "carr5 = reduce(+, carr1)"
   ]
  },
  {
   "cell_type": "code",
   "execution_count": 61,
   "metadata": {},
   "outputs": [
    {
     "data": {
      "text/plain": [
       "1024-element CuArray{Float32, 1, CUDA.DeviceMemory}:\n",
       " 0.0\n",
       " 0.0\n",
       " 0.0\n",
       " 0.0\n",
       " 0.0\n",
       " 0.0\n",
       " 0.0\n",
       " 0.0\n",
       " 0.0\n",
       " 0.0\n",
       " 0.0\n",
       " 0.0\n",
       " 0.0\n",
       " ⋮\n",
       " 0.0\n",
       " 0.0\n",
       " 0.0\n",
       " 0.0\n",
       " 0.0\n",
       " 0.0\n",
       " 0.0\n",
       " 0.0\n",
       " 0.0\n",
       " 0.0\n",
       " 0.0\n",
       " 0.0"
      ]
     },
     "execution_count": 61,
     "metadata": {},
     "output_type": "execute_result"
    }
   ],
   "source": [
    "carr2"
   ]
  },
  {
   "cell_type": "code",
   "execution_count": 67,
   "metadata": {},
   "outputs": [
    {
     "data": {
      "text/plain": [
       "128×128 CuArray{Float32, 2, CUDA.DeviceMemory}:\n",
       " 0.614408   0.545875   0.716857   …  0.25018    0.304857   0.99422\n",
       " 0.432157   0.148661   0.060947      0.0701835  0.15738    0.26359\n",
       " 0.691122   0.743682   0.736573      0.179693   0.290273   0.639974\n",
       " 0.196913   0.967706   0.506799      0.189907   0.142643   0.243997\n",
       " 0.760219   0.935825   0.721442      0.688403   0.844589   0.125919\n",
       " 0.709927   0.51387    0.211541   …  0.726804   0.346087   0.563484\n",
       " 0.528632   0.684303   0.616334      0.721476   0.0159537  0.233643\n",
       " 0.57822    0.205926   0.999921      0.57385    0.818043   0.345943\n",
       " 0.226337   0.0525993  0.558896      0.868044   0.869828   0.584088\n",
       " 0.373114   0.545261   0.765772      0.963495   0.879001   0.215512\n",
       " 0.435306   0.0942882  0.308403   …  0.274051   0.844993   0.312775\n",
       " 0.0454069  0.292291   0.942017      0.269561   0.989988   0.942471\n",
       " 0.750616   0.76125    0.438698      0.244673   0.99518    0.662555\n",
       " ⋮                                ⋱  ⋮                     \n",
       " 0.398871   0.67693    0.788685      0.67148    0.768364   0.34304\n",
       " 0.535349   0.719339   0.624365      0.153772   0.1573     0.825593\n",
       " 0.937462   0.785405   0.666025      0.792763   0.328155   0.12851\n",
       " 0.327985   0.438196   0.332102      0.545028   0.972962   0.766124\n",
       " 0.514961   0.629317   0.407763   …  0.12992    0.59366    0.350576\n",
       " 0.202992   0.641349   0.121916      0.540218   0.333327   0.297032\n",
       " 0.452981   0.884913   0.838801      0.4681     0.73547    0.147533\n",
       " 0.453148   0.475939   0.755816      0.646557   0.0342523  0.457876\n",
       " 0.131957   0.220051   0.275158      0.713292   0.670848   0.282225\n",
       " 0.403083   0.972101   0.862664   …  0.664524   0.955765   0.752627\n",
       " 0.340018   0.397096   0.367503      0.890214   0.836604   0.2444\n",
       " 0.993705   0.515825   0.0957438     0.725386   0.737358   0.770357"
      ]
     },
     "execution_count": 67,
     "metadata": {},
     "output_type": "execute_result"
    }
   ],
   "source": [
    "carr0 = CuArray(rand(Float32, 128, 128))"
   ]
  },
  {
   "cell_type": "code",
   "execution_count": 73,
   "metadata": {},
   "outputs": [
    {
     "data": {
      "text/plain": [
       "3-element CuArray{Int64, 1, CUDA.DeviceMemory}:\n",
       " 1\n",
       " 4\n",
       " 5"
      ]
     },
     "execution_count": 73,
     "metadata": {},
     "output_type": "execute_result"
    }
   ],
   "source": [
    "c1 = CuArray([1,2,3,4,5])\n",
    "c2 = c1[[true, false, false, true, true]]"
   ]
  },
  {
   "cell_type": "code",
   "execution_count": 74,
   "metadata": {},
   "outputs": [
    {
     "data": {
      "text/plain": [
       "3-element CuArray{Int64, 1, CUDA.DeviceMemory}:\n",
       " 1\n",
       " 3\n",
       " 5"
      ]
     },
     "execution_count": 74,
     "metadata": {},
     "output_type": "execute_result"
    }
   ],
   "source": [
    "findall(isodd, c1)"
   ]
  },
  {
   "cell_type": "code",
   "execution_count": 75,
   "metadata": {},
   "outputs": [
    {
     "data": {
      "text/plain": [
       "1"
      ]
     },
     "execution_count": 75,
     "metadata": {},
     "output_type": "execute_result"
    }
   ],
   "source": [
    "findfirst(isodd, c1)"
   ]
  },
  {
   "cell_type": "code",
   "execution_count": 76,
   "metadata": {},
   "outputs": [
    {
     "data": {
      "text/plain": [
       "(1, 1)"
      ]
     },
     "execution_count": 76,
     "metadata": {},
     "output_type": "execute_result"
    }
   ],
   "source": [
    "findmin(c1)"
   ]
  },
  {
   "cell_type": "code",
   "execution_count": 77,
   "metadata": {},
   "outputs": [
    {
     "data": {
      "text/plain": [
       "1"
      ]
     },
     "execution_count": 77,
     "metadata": {},
     "output_type": "execute_result"
    }
   ],
   "source": [
    "d = findfirst(isodd, c1)"
   ]
  },
  {
   "cell_type": "code",
   "execution_count": 78,
   "metadata": {},
   "outputs": [
    {
     "data": {
      "text/plain": [
       "Int64"
      ]
     },
     "execution_count": 78,
     "metadata": {},
     "output_type": "execute_result"
    }
   ],
   "source": [
    "typeof(d)"
   ]
  },
  {
   "cell_type": "code",
   "execution_count": 82,
   "metadata": {},
   "outputs": [
    {
     "data": {
      "text/plain": [
       "3-element CuArray{Int32, 1, CUDA.DeviceMemory}:\n",
       " 2\n",
       " 3\n",
       " 4"
      ]
     },
     "execution_count": 82,
     "metadata": {},
     "output_type": "execute_result"
    }
   ],
   "source": [
    "c2 = CuArray{Int32}(collect(1:6))\n",
    "c3 = reshape(c2, 2, 3)\n",
    "c4 = view(c2, 2:4)"
   ]
  },
  {
   "cell_type": "code",
   "execution_count": 86,
   "metadata": {},
   "outputs": [
    {
     "data": {
      "text/plain": [
       "5"
      ]
     },
     "execution_count": 86,
     "metadata": {},
     "output_type": "execute_result"
    }
   ],
   "source": [
    "c1 = CuArray{Int32}([1,2,3,4])\n",
    "c1[3]=4\n",
    "c1[3] += 1"
   ]
  },
  {
   "cell_type": "code",
   "execution_count": 85,
   "metadata": {},
   "outputs": [
    {
     "data": {
      "text/plain": [
       "4-element CuArray{Int32, 1, CUDA.DeviceMemory}:\n",
       " 1\n",
       " 2\n",
       " 4\n",
       " 4"
      ]
     },
     "execution_count": 85,
     "metadata": {},
     "output_type": "execute_result"
    }
   ],
   "source": [
    "c1"
   ]
  },
  {
   "cell_type": "code",
   "execution_count": 87,
   "metadata": {},
   "outputs": [],
   "source": [
    "CUBLAS.cublasLoggerConfigure(1, 0, 1, C_NULL)"
   ]
  },
  {
   "cell_type": "code",
   "execution_count": 95,
   "metadata": {},
   "outputs": [
    {
     "data": {
      "text/plain": [
       "(Float32[0.6862528, 0.3502003, 0.17327243, 0.5727967, 0.4321698, 0.21588409, 0.9317812, 0.8133021, 0.031039774, 0.90765685  …  0.662232, 0.59176946, 0.30912292, 0.87857586, 0.46198666, 0.24350399, 0.83844346, 0.025021374, 0.8581258, 0.8255516], Float32[0.049223542, 0.5396586, 0.5479738, 0.2955312, 0.49956048, 0.74897486, 0.8889911, 0.932449, 0.007093966, 0.13516706  …  0.345146, 0.31396365, 0.10546261, 0.41614407, 0.45485222, 0.12701416, 0.9572982, 0.7359793, 0.031462073, 0.94465625])"
      ]
     },
     "execution_count": 95,
     "metadata": {},
     "output_type": "execute_result"
    }
   ],
   "source": [
    "x, y = rand(Float32, 1024), rand(Float32, 1024)\n",
    "cx, cy = CuArray(x), CuArray(y)"
   ]
  },
  {
   "cell_type": "code",
   "execution_count": 100,
   "metadata": {},
   "outputs": [
    {
     "name": "stderr",
     "output_type": "stream",
     "text": [
      "I! cuBLAS (v12.3) function cublasStatus_t cublasGetProperty(libraryPropertyType, int*) called:\n",
      "i!  type: type=SOME TYPE; val=0\n",
      "i!  value: type=int; val=POINTER (IN HEX:0x0x7f1eca905b90)\n",
      "i! Time: 2024-11-07T11:12:28 elapsed from start 188.566667 minutes or 11314.000000 seconds\n",
      "i!Process=29499; Thread=139776632226496; GPU=0; Handle=POINTER (IN HEX:0x(nil))\n",
      "i! COMPILED WITH: GNU GCC/G++ / 6.3.1 20170216 (Red Hat 6.3.1-3)\n",
      "I! cuBLAS (v12.3) function cublasStatus_t cublasGetProperty(libraryPropertyType, int*) called:\n",
      "i!  type: type=SOME TYPE; val=1\n",
      "i!  value: type=int; val=POINTER (IN HEX:0x0x7f1eca905bb0)\n",
      "i! Time: 2024-11-07T11:12:28 elapsed from start 188.566667 minutes or 11314.000000 seconds\n",
      "i!Process=29499; Thread=139776632226496; GPU=0; Handle=POINTER (IN HEX:0x(nil))\n",
      "i! COMPILED WITH: GNU GCC/G++ / 6.3.1 20170216 (Red Hat 6.3.1-3)\n",
      "I! cuBLAS (v12.3) function cublasStatus_t cublasGetProperty(libraryPropertyType, int*) called:\n",
      "i!  type: type=SOME TYPE; val=2\n",
      "i!  value: type=int; val=POINTER (IN HEX:0x0x7f1eca905bd0)\n",
      "i! Time: 2024-11-07T11:12:28 elapsed from start 188.566667 minutes or 11314.000000 seconds\n",
      "i!Process=29499; Thread=139776632226496; GPU=0; Handle=POINTER (IN HEX:0x(nil))\n",
      "i! COMPILED WITH: GNU GCC/G++ / 6.3.1 20170216 (Red Hat 6.3.1-3)\n",
      "I! cuBLAS (v12.3) function cublasStatus_t cublasSdot_v2_64(cublasHandle_t, int64_t, const float*, int64_t, const float*, int64_t, float*) called:\n",
      "i!  handle: type=cublasHandle_t; val=POINTER (IN HEX:0x0x7fbbc20)\n",
      "i!  n: type=long; val=2\n",
      "i!  x: type=float; val=POINTER (IN HEX:0x0x4023db400)\n",
      "i!  incx: type=long; val=1\n",
      "i!  y: type=float; val=POINTER (IN HEX:0x0x4023e1a00)\n",
      "i!  incy: type=long; val=1\n",
      "i!  result: type=float; val=POINTER (IN HEX:0x0x7f1eca905b80)\n",
      "i! Time: 2024-11-07T11:12:28 elapsed from start 188.566667 minutes or 11314.000000 seconds\n",
      "i!Process=29499; Thread=139776632226496; GPU=0; Handle=POINTER (IN HEX:0x0x7fbbc20); StreamId=POINTER (IN HEX:0x0x2db5bf0); MathMode=CUBLAS_DEFAULT_MATH | CUBLAS_MATH_DISALLOW_REDUCED_PRECISION_REDUCTION\n",
      "i! COMPILED WITH: GNU GCC/G++ / 6.3.1 20170216 (Red Hat 6.3.1-3)\n"
     ]
    },
    {
     "data": {
      "text/plain": [
       "0.000444384f0"
      ]
     },
     "execution_count": 100,
     "metadata": {},
     "output_type": "execute_result"
    }
   ],
   "source": [
    "CUDA.@elapsed CUBLAS.dot(2, cx, cy)\n",
    "    "
   ]
  },
  {
   "cell_type": "code",
   "execution_count": 102,
   "metadata": {},
   "outputs": [
    {
     "data": {
      "text/plain": [
       "9.375e-6"
      ]
     },
     "execution_count": 102,
     "metadata": {},
     "output_type": "execute_result"
    }
   ],
   "source": [
    "@elapsed dot(x, y)"
   ]
  },
  {
   "cell_type": "code",
   "execution_count": null,
   "metadata": {},
   "outputs": [],
   "source": []
  }
 ],
 "metadata": {
  "kernelspec": {
   "display_name": "Julia 1.11.1",
   "language": "julia",
   "name": "julia-1.11"
  },
  "language_info": {
   "file_extension": ".jl",
   "mimetype": "application/julia",
   "name": "julia",
   "version": "1.11.1"
  }
 },
 "nbformat": 4,
 "nbformat_minor": 2
}
